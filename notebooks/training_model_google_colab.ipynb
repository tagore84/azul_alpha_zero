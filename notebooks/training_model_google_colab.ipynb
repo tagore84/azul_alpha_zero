{
 "cells": [
  {
   "cell_type": "code",
   "execution_count": null,
   "id": "c718bba1",
   "metadata": {
    "vscode": {
     "languageId": "plaintext"
    }
   },
   "outputs": [],
   "source": [
    "# 🧱 1. Montar Google Drive\n",
    "from google.colab import drive\n",
    "drive.mount('/content/drive')"
   ]
  },
  {
   "cell_type": "code",
   "execution_count": null,
   "id": "27bb231e",
   "metadata": {
    "vscode": {
     "languageId": "plaintext"
    }
   },
   "outputs": [],
   "source": [
    "# 📁 2. Clonar tu repositorio (si no lo has subido directamente)\n",
    "!git clone https://github.com/tu_usuario/azul_alpha_zero.git\n",
    "%cd azul_alpha_zero"
   ]
  },
  {
   "cell_type": "code",
   "execution_count": null,
   "id": "b832e4aa",
   "metadata": {
    "vscode": {
     "languageId": "plaintext"
    }
   },
   "outputs": [],
   "source": [
    " # 📦 3. Instalar dependencias necesarias\n",
    "!pip install torch"
   ]
  },
  {
   "cell_type": "code",
   "execution_count": null,
   "id": "34ab5590",
   "metadata": {
    "vscode": {
     "languageId": "plaintext"
    }
   },
   "outputs": [],
   "source": [
    "# ⚠️ 4. (Opcional) Verificar si el archivo del replay buffer está en la ruta esperada\n",
    "import os\n",
    "buffer_path = '/content/drive/MyDrive/azul_zero_checkpoints/replay_buffer_mac.pt'\n",
    "assert os.path.exists(buffer_path), f\"Replay buffer no encontrado: {buffer_path}\""
   ]
  },
  {
   "cell_type": "code",
   "execution_count": null,
   "id": "752f1f42",
   "metadata": {
    "vscode": {
     "languageId": "plaintext"
    }
   },
   "outputs": [],
   "source": [
    "# ▶️ 5. Ejecutar entrenamiento\n",
    "!AZUL_MACHINE_ID=colab python3 scripts/train_azul.py \\\n",
    "  --buffer /content/drive/MyDrive/azul_zero_checkpoints/replay_buffer_mac.pt \\\n",
    "  --epochs 40 \\\n",
    "  --eval_interval 20 \\\n",
    "  --eval_games 10 \\\n",
    "  --checkpoint_dir data/checkpoint_dir \\\n",
    "  --lr 2e-3 \\\n",
    "  --batch_size 128"
   ]
  }
 ],
 "metadata": {
  "language_info": {
   "name": "python"
  }
 },
 "nbformat": 4,
 "nbformat_minor": 5
}
