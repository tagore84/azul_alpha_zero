{
 "cells": [
  {
   "cell_type": "code",
   "execution_count": null,
   "id": "a3866eb1",
   "metadata": {
    "vscode": {
     "languageId": "plaintext"
    }
   },
   "outputs": [],
   "source": [
    "# 🔁 1. Clonar el repositorio\n",
    "!git clone https://github.com/tagore84/azul_alpha_zero.git\n",
    "%cd azul_zero"
   ]
  },
  {
   "cell_type": "code",
   "execution_count": null,
   "id": "04aa82bc",
   "metadata": {
    "vscode": {
     "languageId": "plaintext"
    }
   },
   "outputs": [],
   "source": [
    "# 📦 2. Instalar dependencias\n",
    "!pip install -e ."
   ]
  },
  {
   "cell_type": "code",
   "execution_count": null,
   "id": "64859b40",
   "metadata": {
    "vscode": {
     "languageId": "plaintext"
    }
   },
   "outputs": [],
   "source": [
    "# ⚙️ 3. Verificar GPU\n",
    "import torch\n",
    "device = torch.device(\"cuda\" if torch.cuda.is_available() else \"cpu\")\n",
    "print(\"✅ Using device:\", device)"
   ]
  },
  {
   "cell_type": "code",
   "execution_count": null,
   "id": "1f35b36a",
   "metadata": {
    "vscode": {
     "languageId": "plaintext"
    }
   },
   "outputs": [],
   "source": [
    "# 🗂️ 4. Montar Google Drive\n",
    "from google.colab import drive\n",
    "drive.mount('/content/drive')\n",
    "# Rutas persistentes\n",
    "CHECKPOINT_DIR = \"/content/drive/MyDrive/azul_zero_checkpoints\"\n",
    "LOG_DIR = \"/content/drive/MyDrive/azul_zero_logs\""
   ]
  },
  {
   "cell_type": "code",
   "execution_count": null,
   "id": "f484a6c2",
   "metadata": {
    "vscode": {
     "languageId": "plaintext"
    }
   },
   "outputs": [],
   "source": [
    "# 🚀 5. Ejecutar entrenamiento\n",
    "!AZUL_MACHINE_ID=colab python3 scripts/train_azul.py \\\n",
    "  --n_games 100 \\\n",
    "  --simulations 200 \\\n",
    "  --epochs 40 \\\n",
    "  --eval_interval 20 \\\n",
    "  --eval_games 10 \\\n",
    "  --checkpoint_dir data/checkpoint_dir \\\n",
    "  --lr 2e-3 \\\n",
    "  --batch_size 128"
   ]
  },
  {
   "cell_type": "code",
   "execution_count": null,
   "id": "4e147da5",
   "metadata": {
    "vscode": {
     "languageId": "plaintext"
    }
   },
   "outputs": [],
   "source": [
    "# 📊 6. Visualizar con TensorBoard\n",
    "%load_ext tensorboard\n",
    "%tensorboard --logdir /content/drive/MyDrive/azul_zero_logs"
   ]
  }
 ],
 "metadata": {
  "language_info": {
   "name": "python"
  }
 },
 "nbformat": 4,
 "nbformat_minor": 5
}
